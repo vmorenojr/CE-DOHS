{
 "cells": [
  {
   "cell_type": "markdown",
   "metadata": {},
   "source": [
    "<font size=\"6\">Text Mining com Python e Whoosh: Cartas Brasileiras (PHPB-Ba)</font>\n",
    "\n",
    "<p><font size=\"5\" color=\"darkred\">Valter Moreno</font></p>\n",
    "\n",
    "<font size=\"3\" color=\"gray\">**Fundação Getúlio Vargas (FGV)**<br/>\n",
    "**Mestrado em Matemática Aplicada (EMAp)**<br/>\n",
    "**Sistemas de Recuperação de Informação - 2019**<br/></font>"
   ]
  },
  {
   "cell_type": "markdown",
   "metadata": {},
   "source": [
    "<font size=\"4\" id=\"tocheading\">Índice</font>\n",
    "<div id=\"toc\"></div>\n",
    "<br>"
   ]
  },
  {
   "cell_type": "code",
   "execution_count": 1,
   "metadata": {},
   "outputs": [
    {
     "data": {
      "application/javascript": [
       "$.getScript('https://kmahelona.github.io/ipython_notebook_goodies/ipython_notebook_toc.js')\n"
      ],
      "text/plain": [
       "<IPython.core.display.Javascript object>"
      ]
     },
     "metadata": {},
     "output_type": "display_data"
    }
   ],
   "source": [
    "%%javascript\n",
    "$.getScript('https://kmahelona.github.io/ipython_notebook_goodies/ipython_notebook_toc.js')"
   ]
  },
  {
   "cell_type": "markdown",
   "metadata": {},
   "source": [
    "## Objetivos do projeto\n",
    "\n",
    "Neste projeto, analisamos os manuscritos modernizados do Corpus Eletrônico de Documentos Históricos do Sertão [(CE-DOHS)](http://www.tycho.iel.unicamp.br/cedohs/corpora.html) com os seguintes objetivos:\n",
    "\n",
    "  - identificar os principais assuntos tratados nos documentos; e\n",
    "  - avaliar semanticamente o seu conteúdo, ou seja, o significado das palavras de seu vocabulário.\n",
    "  \n",
    "Além de obtermos resultados globais para todo o corpus, dividimos os documentos de acordo com as décadas de sua produção, de forma a avaliar mudanças em assuntos e no significado de palavras ao longo do tempo.  \n",
    "\n",
    "## Corpus analisado\n",
    "\n",
    "O Corpus Compartilhado Diacrônico – Cartas Brasileiras (PHPB-Ba) é disponibilizado no website do projeto Plataforma Corpus Eletrônico de Documentos Históricos do Sertão [CE-DOHS]. O projeto é coordenado por Zenaide de Oliveira Novais Carneiro (UEFS/Fapesb/CNPq) e Mariana Fagundes de Oliveira Lacerda (UEFS/Fapesb).\n",
    "\n",
    "O corpus analisado neste projeto consiste de 1.185 cartas com datas no período de 1823 a 2000. As cartas provêm de 14 corporas distintos, listados no [website do CE-DOHS](http://www.tycho.iel.unicamp.br/cedohs/corpora.html)."
   ]
  },
  {
   "cell_type": "markdown",
   "metadata": {},
   "source": [
    "## Software utilizado"
   ]
  },
  {
   "cell_type": "code",
   "execution_count": 2,
   "metadata": {},
   "outputs": [
    {
     "name": "stdout",
     "output_type": "stream",
     "text": [
      "Populating the interactive namespace from numpy and matplotlib\n"
     ]
    },
    {
     "name": "stderr",
     "output_type": "stream",
     "text": [
      "[nltk_data] Downloading package stopwords to\n",
      "[nltk_data]     /home/vmoreno/nltk_data...\n",
      "[nltk_data]   Package stopwords is already up-to-date!\n"
     ]
    }
   ],
   "source": [
    "import numpy as np\n",
    "import os\n",
    "import glob\n",
    "import re\n",
    "\n",
    "import pandas as pd\n",
    "pd.set_option('precision', 5)\n",
    "pd.set_option('display.max_colwidth', -1) # Customização do display de dataframes para que\n",
    "                                          # todo o conteúdo das colunas seja mostrado\n",
    "import matplotlib.pyplot as plt\n",
    "%config InteractiveShellApp.pylab_import_all = False\n",
    "%pylab inline\n",
    "\n",
    "import seaborn as sb\n",
    "sb.set(palette='dark', color_codes=True)\n",
    "\n",
    "from collections import defaultdict, Counter\n",
    "from datetime import datetime\n",
    "from pprint import pprint\n",
    "\n",
    "# Gensim\n",
    "import gensim\n",
    "from gensim import corpora, models\n",
    "from gensim.utils import simple_preprocess\n",
    "#from gensim.models import CoherenceModel\n",
    "\n",
    "# spaCy\n",
    "import spacy\n",
    "nlp = spacy.load(\"pt_core_news_sm\")\n",
    "\n",
    "# NLTK\n",
    "import nltk\n",
    "from nltk.corpus import stopwords\n",
    "nltk.download('stopwords')\n",
    "#import nltk\n",
    "#from nltk.tokenize import WordPunctTokenizer\n",
    "#from nltk.stem.snowball import PortugueseStemmer\n",
    "\n",
    "#import string\n",
    "#from string import punctuation\n",
    "#from itertools import islice\n",
    "#from numpy.linalg import norm\n",
    "\n",
    "#from spellchecker import SpellChecker\n",
    "\n",
    "#import spacy\n",
    "#nlp = spacy.load(\"pt_core_news_sm\")\n",
    "\n",
    "\n",
    "#from whoosh.index import create_in, open_dir\n",
    "#from whoosh.fields import *\n",
    "#from whoosh.analysis import RegexTokenizer, LanguageAnalyzer, StopFilter, LowercaseFilter, StemFilter\n",
    "#from whoosh.qparser import QueryParser\n",
    "#from whoosh.query import Phrase\n",
    "\n",
    "# Avisos:\n",
    "import warnings\n",
    "warnings.filterwarnings(\"ignore\",category=DeprecationWarning)"
   ]
  },
  {
   "cell_type": "code",
   "execution_count": 3,
   "metadata": {},
   "outputs": [],
   "source": [
    "# Função para a impressão de conteúdo Markdown\n",
    "from IPython.display import Markdown, display\n",
    "\n",
    "def printmd(string):\n",
    "    display(Markdown(string))"
   ]
  },
  {
   "cell_type": "markdown",
   "metadata": {},
   "source": [
    "## Importação dos textos do corpus\n",
    "\n",
    "O corpus de 1.185 cartas está dividido em arquivos de texto com o conteúdo original e modernizado.  Em nossa análise, utilizamos apenas as cartas com o português modernizado. Um exemplo de manuscrito modernizado é mostrado a seguir."
   ]
  },
  {
   "cell_type": "code",
   "execution_count": 4,
   "metadata": {
    "scrolled": true
   },
   "outputs": [
    {
     "data": {
      "text/markdown": [
       "**Há um total de <font color=\"gray\">2370</font> arquivos no diretório do corpus.**\n"
      ],
      "text/plain": [
       "<IPython.core.display.Markdown object>"
      ]
     },
     "metadata": {},
     "output_type": "display_data"
    },
    {
     "data": {
      "text/markdown": [
       "**Nomes dos primeiros arquivos:**"
      ],
      "text/plain": [
       "<IPython.core.display.Markdown object>"
      ]
     },
     "metadata": {},
     "output_type": "display_data"
    },
    {
     "name": "stdout",
     "output_type": "stream",
     "text": [
      "CE-DOHS/01-AAD-17-04-1962-mod.txt\n",
      "CE-DOHS/01-AAD-17-04-1962-orig.txt\n",
      "CE-DOHS/01-ACST-14-01-1952-mod.txt\n",
      "CE-DOHS/01-ACST-14-01-1952-orig.txt\n",
      "CE-DOHS/01-AFS-28-04-1956-mod.txt\n",
      "CE-DOHS/01-AFS-28-04-1956-orig.txt\n",
      "CE-DOHS/01-APACA-14-01-1980-mod.txt\n",
      "CE-DOHS/01-APACA-14-01-1980-orig.txt\n"
     ]
    }
   ],
   "source": [
    "caminho = \"CE-DOHS/*.txt\"\n",
    "arquivos  = glob.glob(caminho)\n",
    "printmd('**Há um total de <font color=\"gray\">' + str(len(arquivos)) + '</font> arquivos no diretório do corpus.**\\n')\n",
    "printmd('**Nomes dos primeiros arquivos:**')\n",
    "for i in range(0,8):\n",
    "    print(arquivos[i])"
   ]
  },
  {
   "cell_type": "code",
   "execution_count": 5,
   "metadata": {},
   "outputs": [],
   "source": [
    "arquivos = [id for id in arquivos if id.endswith('-mod.txt')]"
   ]
  },
  {
   "cell_type": "code",
   "execution_count": 6,
   "metadata": {},
   "outputs": [
    {
     "data": {
      "text/markdown": [
       "**<br/>Conteúdo do primeiro arquivo com português modernizado:**"
      ],
      "text/plain": [
       "<IPython.core.display.Markdown object>"
      ]
     },
     "metadata": {},
     "output_type": "display_data"
    },
    {
     "data": {
      "text/html": [
       "<style  type=\"text/css\" >\n",
       "    #T_343cf72c_0d72_11ea_8a4b_0b7a35d0e2bcrow0_col0 {\n",
       "            text-align:  left;\n",
       "        }    #T_343cf72c_0d72_11ea_8a4b_0b7a35d0e2bcrow1_col0 {\n",
       "            text-align:  left;\n",
       "        }    #T_343cf72c_0d72_11ea_8a4b_0b7a35d0e2bcrow2_col0 {\n",
       "            text-align:  left;\n",
       "        }    #T_343cf72c_0d72_11ea_8a4b_0b7a35d0e2bcrow3_col0 {\n",
       "            text-align:  left;\n",
       "        }    #T_343cf72c_0d72_11ea_8a4b_0b7a35d0e2bcrow4_col0 {\n",
       "            text-align:  left;\n",
       "        }    #T_343cf72c_0d72_11ea_8a4b_0b7a35d0e2bcrow5_col0 {\n",
       "            text-align:  left;\n",
       "        }    #T_343cf72c_0d72_11ea_8a4b_0b7a35d0e2bcrow6_col0 {\n",
       "            text-align:  left;\n",
       "        }    #T_343cf72c_0d72_11ea_8a4b_0b7a35d0e2bcrow7_col0 {\n",
       "            text-align:  left;\n",
       "        }    #T_343cf72c_0d72_11ea_8a4b_0b7a35d0e2bcrow8_col0 {\n",
       "            text-align:  left;\n",
       "        }    #T_343cf72c_0d72_11ea_8a4b_0b7a35d0e2bcrow9_col0 {\n",
       "            text-align:  left;\n",
       "        }    #T_343cf72c_0d72_11ea_8a4b_0b7a35d0e2bcrow10_col0 {\n",
       "            text-align:  left;\n",
       "        }    #T_343cf72c_0d72_11ea_8a4b_0b7a35d0e2bcrow11_col0 {\n",
       "            text-align:  left;\n",
       "        }    #T_343cf72c_0d72_11ea_8a4b_0b7a35d0e2bcrow12_col0 {\n",
       "            text-align:  left;\n",
       "        }    #T_343cf72c_0d72_11ea_8a4b_0b7a35d0e2bcrow13_col0 {\n",
       "            text-align:  left;\n",
       "        }    #T_343cf72c_0d72_11ea_8a4b_0b7a35d0e2bcrow14_col0 {\n",
       "            text-align:  left;\n",
       "        }    #T_343cf72c_0d72_11ea_8a4b_0b7a35d0e2bcrow15_col0 {\n",
       "            text-align:  left;\n",
       "        }    #T_343cf72c_0d72_11ea_8a4b_0b7a35d0e2bcrow16_col0 {\n",
       "            text-align:  left;\n",
       "        }    #T_343cf72c_0d72_11ea_8a4b_0b7a35d0e2bcrow17_col0 {\n",
       "            text-align:  left;\n",
       "        }    #T_343cf72c_0d72_11ea_8a4b_0b7a35d0e2bcrow18_col0 {\n",
       "            text-align:  left;\n",
       "        }    #T_343cf72c_0d72_11ea_8a4b_0b7a35d0e2bcrow19_col0 {\n",
       "            text-align:  left;\n",
       "        }    #T_343cf72c_0d72_11ea_8a4b_0b7a35d0e2bcrow20_col0 {\n",
       "            text-align:  left;\n",
       "        }    #T_343cf72c_0d72_11ea_8a4b_0b7a35d0e2bcrow21_col0 {\n",
       "            text-align:  left;\n",
       "        }    #T_343cf72c_0d72_11ea_8a4b_0b7a35d0e2bcrow22_col0 {\n",
       "            text-align:  left;\n",
       "        }    #T_343cf72c_0d72_11ea_8a4b_0b7a35d0e2bcrow23_col0 {\n",
       "            text-align:  left;\n",
       "        }</style><table id=\"T_343cf72c_0d72_11ea_8a4b_0b7a35d0e2bc\" ><thead>    <tr>        <th class=\"blank level0\" ></th>        <th class=\"col_heading level0 col0\" ></th>    </tr></thead><tbody>\n",
       "                <tr>\n",
       "                        <th id=\"T_343cf72c_0d72_11ea_8a4b_0b7a35d0e2bclevel0_row0\" class=\"row_heading level0 row0\" >0</th>\n",
       "                        <td id=\"T_343cf72c_0d72_11ea_8a4b_0b7a35d0e2bcrow0_col0\" class=\"data row0 col0\" >|:| Corpus Eletrônico de Documento Históricos do Sertão [ CE-DOHS ]</td>\n",
       "            </tr>\n",
       "            <tr>\n",
       "                        <th id=\"T_343cf72c_0d72_11ea_8a4b_0b7a35d0e2bclevel0_row1\" class=\"row_heading level0 row1\" >1</th>\n",
       "                        <td id=\"T_343cf72c_0d72_11ea_8a4b_0b7a35d0e2bcrow1_col0\" class=\"data row1 col0\" >|:| Bruna Trindade</td>\n",
       "            </tr>\n",
       "            <tr>\n",
       "                        <th id=\"T_343cf72c_0d72_11ea_8a4b_0b7a35d0e2bclevel0_row2\" class=\"row_heading level0 row2\" >2</th>\n",
       "                        <td id=\"T_343cf72c_0d72_11ea_8a4b_0b7a35d0e2bcrow2_col0\" class=\"data row2 col0\" >|:| Carta 01-AAD-17-04-1962</td>\n",
       "            </tr>\n",
       "            <tr>\n",
       "                        <th id=\"T_343cf72c_0d72_11ea_8a4b_0b7a35d0e2bclevel0_row3\" class=\"row_heading level0 row3\" >3</th>\n",
       "                        <td id=\"T_343cf72c_0d72_11ea_8a4b_0b7a35d0e2bcrow3_col0\" class=\"data row3 col0\" >|:| Autor: Arnaldo Andrade Dias (apócrifo)</td>\n",
       "            </tr>\n",
       "            <tr>\n",
       "                        <th id=\"T_343cf72c_0d72_11ea_8a4b_0b7a35d0e2bclevel0_row4\" class=\"row_heading level0 row4\" >4</th>\n",
       "                        <td id=\"T_343cf72c_0d72_11ea_8a4b_0b7a35d0e2bcrow4_col0\" class=\"data row4 col0\" >|:| Destinatário: Maria de Lourdes de Lima Oliveira</td>\n",
       "            </tr>\n",
       "            <tr>\n",
       "                        <th id=\"T_343cf72c_0d72_11ea_8a4b_0b7a35d0e2bclevel0_row5\" class=\"row_heading level0 row5\" >5</th>\n",
       "                        <td id=\"T_343cf72c_0d72_11ea_8a4b_0b7a35d0e2bcrow5_col0\" class=\"data row5 col0\" >|:| Data: 17/04/ 1962</td>\n",
       "            </tr>\n",
       "            <tr>\n",
       "                        <th id=\"T_343cf72c_0d72_11ea_8a4b_0b7a35d0e2bclevel0_row6\" class=\"row_heading level0 row6\" >6</th>\n",
       "                        <td id=\"T_343cf72c_0d72_11ea_8a4b_0b7a35d0e2bcrow6_col0\" class=\"data row6 col0\" >|:| Versão modernizada</td>\n",
       "            </tr>\n",
       "            <tr>\n",
       "                        <th id=\"T_343cf72c_0d72_11ea_8a4b_0b7a35d0e2bclevel0_row7\" class=\"row_heading level0 row7\" >7</th>\n",
       "                        <td id=\"T_343cf72c_0d72_11ea_8a4b_0b7a35d0e2bcrow7_col0\" class=\"data row7 col0\" >|:| Encoding: UTF-8</td>\n",
       "            </tr>\n",
       "            <tr>\n",
       "                        <th id=\"T_343cf72c_0d72_11ea_8a4b_0b7a35d0e2bclevel0_row8\" class=\"row_heading level0 row8\" >8</th>\n",
       "                        <td id=\"T_343cf72c_0d72_11ea_8a4b_0b7a35d0e2bcrow8_col0\" class=\"data row8 col0\" >Carta 1</td>\n",
       "            </tr>\n",
       "            <tr>\n",
       "                        <th id=\"T_343cf72c_0d72_11ea_8a4b_0b7a35d0e2bclevel0_row9\" class=\"row_heading level0 row9\" >9</th>\n",
       "                        <td id=\"T_343cf72c_0d72_11ea_8a4b_0b7a35d0e2bcrow9_col0\" class=\"data row9 col0\" >APFFO . 1 de 23 . Documento contendo um fólio . Papel almaço com pautas .</td>\n",
       "            </tr>\n",
       "            <tr>\n",
       "                        <th id=\"T_343cf72c_0d72_11ea_8a4b_0b7a35d0e2bclevel0_row10\" class=\"row_heading level0 row10\" >10</th>\n",
       "                        <td id=\"T_343cf72c_0d72_11ea_8a4b_0b7a35d0e2bcrow10_col0\" class=\"data row10 col0\" >São Paulo 17 de abril 1962</td>\n",
       "            </tr>\n",
       "            <tr>\n",
       "                        <th id=\"T_343cf72c_0d72_11ea_8a4b_0b7a35d0e2bclevel0_row11\" class=\"row_heading level0 row11\" >11</th>\n",
       "                        <td id=\"T_343cf72c_0d72_11ea_8a4b_0b7a35d0e2bcrow11_col0\" class=\"data row11 col0\" >Inesquicível Lurdes</td>\n",
       "            </tr>\n",
       "            <tr>\n",
       "                        <th id=\"T_343cf72c_0d72_11ea_8a4b_0b7a35d0e2bclevel0_row12\" class=\"row_heading level0 row12\" >12</th>\n",
       "                        <td id=\"T_343cf72c_0d72_11ea_8a4b_0b7a35d0e2bcrow12_col0\" class=\"data row12 col0\" >Adeus ao longe ,</td>\n",
       "            </tr>\n",
       "            <tr>\n",
       "                        <th id=\"T_343cf72c_0d72_11ea_8a4b_0b7a35d0e2bclevel0_row13\" class=\"row_heading level0 row13\" >13</th>\n",
       "                        <td id=\"T_343cf72c_0d72_11ea_8a4b_0b7a35d0e2bcrow13_col0\" class=\"data row13 col0\" >Em uma tarde tristonho , cheio de saudade , que peguei em minha rude caneta para te escrever dando as minhas notícias , que 1 de saúde vou bem só o que me mata 2 é a cruel se 3 lembrança de você .</td>\n",
       "            </tr>\n",
       "            <tr>\n",
       "                        <th id=\"T_343cf72c_0d72_11ea_8a4b_0b7a35d0e2bclevel0_row14\" class=\"row_heading level0 row14\" >14</th>\n",
       "                        <td id=\"T_343cf72c_0d72_11ea_8a4b_0b7a35d0e2bcrow14_col0\" class=\"data row14 col0\" >Talvez você não acredite meu amor mais quando chega 4 o domingo fico na impressão que a tarde vou te ver e a inda mais aumenta o meu sofrer pois já estou arrependido da hora que me ausentei de lá . Embora já sabia que não suportava viver ausente de te meu amor , tentei só para sofrer , parece-me que tu és a única pessoa que Deus deixou para eu amar com todo amor que meu jovem coração encerra .</td>\n",
       "            </tr>\n",
       "            <tr>\n",
       "                        <th id=\"T_343cf72c_0d72_11ea_8a4b_0b7a35d0e2bclevel0_row15\" class=\"row_heading level0 row15\" >15</th>\n",
       "                        <td id=\"T_343cf72c_0d72_11ea_8a4b_0b7a35d0e2bcrow15_col0\" class=\"data row15 col0\" >[footer:  1 Borrado .</td>\n",
       "            </tr>\n",
       "            <tr>\n",
       "                        <th id=\"T_343cf72c_0d72_11ea_8a4b_0b7a35d0e2bclevel0_row16\" class=\"row_heading level0 row16\" >16</th>\n",
       "                        <td id=\"T_343cf72c_0d72_11ea_8a4b_0b7a35d0e2bcrow16_col0\" class=\"data row16 col0\" >2 Borrado .</td>\n",
       "            </tr>\n",
       "            <tr>\n",
       "                        <th id=\"T_343cf72c_0d72_11ea_8a4b_0b7a35d0e2bclevel0_row17\" class=\"row_heading level0 row17\" >17</th>\n",
       "                        <td id=\"T_343cf72c_0d72_11ea_8a4b_0b7a35d0e2bcrow17_col0\" class=\"data row17 col0\" >3 Rasura .</td>\n",
       "            </tr>\n",
       "            <tr>\n",
       "                        <th id=\"T_343cf72c_0d72_11ea_8a4b_0b7a35d0e2bclevel0_row18\" class=\"row_heading level0 row18\" >18</th>\n",
       "                        <td id=\"T_343cf72c_0d72_11ea_8a4b_0b7a35d0e2bcrow18_col0\" class=\"data row18 col0\" >4 Rasura .</td>\n",
       "            </tr>\n",
       "            <tr>\n",
       "                        <th id=\"T_343cf72c_0d72_11ea_8a4b_0b7a35d0e2bclevel0_row19\" class=\"row_heading level0 row19\" >19</th>\n",
       "                        <td id=\"T_343cf72c_0d72_11ea_8a4b_0b7a35d0e2bcrow19_col0\" class=\"data row19 col0\" >]</td>\n",
       "            </tr>\n",
       "            <tr>\n",
       "                        <th id=\"T_343cf72c_0d72_11ea_8a4b_0b7a35d0e2bclevel0_row20\" class=\"row_heading level0 row20\" >20</th>\n",
       "                        <td id=\"T_343cf72c_0d72_11ea_8a4b_0b7a35d0e2bcrow20_col0\" class=\"data row20 col0\" >[pag]</td>\n",
       "            </tr>\n",
       "            <tr>\n",
       "                        <th id=\"T_343cf72c_0d72_11ea_8a4b_0b7a35d0e2bclevel0_row21\" class=\"row_heading level0 row21\" >21</th>\n",
       "                        <td id=\"T_343cf72c_0d72_11ea_8a4b_0b7a35d0e2bcrow21_col0\" class=\"data row21 col0\" >Sem mais abraços fortes para você e aceite mil recordações .</td>\n",
       "            </tr>\n",
       "            <tr>\n",
       "                        <th id=\"T_343cf72c_0d72_11ea_8a4b_0b7a35d0e2bclevel0_row22\" class=\"row_heading level0 row22\" >22</th>\n",
       "                        <td id=\"T_343cf72c_0d72_11ea_8a4b_0b7a35d0e2bcrow22_col0\" class=\"data row22 col0\" >deste que te ama sem falsidade até o fim , do seu amor que muito te quer .</td>\n",
       "            </tr>\n",
       "            <tr>\n",
       "                        <th id=\"T_343cf72c_0d72_11ea_8a4b_0b7a35d0e2bclevel0_row23\" class=\"row_heading level0 row23\" >23</th>\n",
       "                        <td id=\"T_343cf72c_0d72_11ea_8a4b_0b7a35d0e2bcrow23_col0\" class=\"data row23 col0\" >Arnaldo Andrade Dias</td>\n",
       "            </tr>\n",
       "    </tbody></table>"
      ],
      "text/plain": [
       "<pandas.io.formats.style.Styler at 0x7f3661b11690>"
      ]
     },
     "execution_count": 6,
     "metadata": {},
     "output_type": "execute_result"
    }
   ],
   "source": [
    "printmd('**<br/>Conteúdo do primeiro arquivo com português modernizado:**')\n",
    "with open(arquivos[0]) as f:\n",
    "    texto = [linha.strip(' \\n') for linha in f.readlines() if len(linha.strip(' \\n')) > 0] \n",
    "pd.DataFrame(texto, columns=['']).style.set_properties(**{'text-align': 'left'})"
   ]
  },
  {
   "cell_type": "markdown",
   "metadata": {},
   "source": [
    "## Extração de metadados e texto dos arquivos\n",
    "\n",
    "Os arquivos do CE-DOHS incluem metadados em seu cabeçalho identificados pela sequência de caracteres `|:|`. Os seguintes campos são fornecidos:\n",
    "\n",
    "  * Identificação do corpus\n",
    "  * Nome da pesqisadora  \n",
    "  * Identificação da carta\n",
    "  * Nome do autor da carta\n",
    "  * Nome do destinatário\n",
    "  * Data da carta\n",
    "  * Identificação de carta modernizada\n",
    "  * Identificação da codificação (UTF-8)\n",
    "  * Número da carta\n",
    "  * Descrição do manuscrito (ex., local de arquivo, tipo de papel)"
   ]
  },
  {
   "cell_type": "code",
   "execution_count": 7,
   "metadata": {
    "scrolled": true
   },
   "outputs": [
    {
     "data": {
      "text/markdown": [
       "**Metadados do primeiro arquivo:**"
      ],
      "text/plain": [
       "<IPython.core.display.Markdown object>"
      ]
     },
     "metadata": {},
     "output_type": "display_data"
    },
    {
     "name": "stdout",
     "output_type": "stream",
     "text": [
      "['|:| Corpus Eletrônico de Documento Históricos do Sertão [ CE-DOHS ]',\n",
      " '|:| Bruna Trindade',\n",
      " '|:| Carta 01-AAD-17-04-1962',\n",
      " '|:| Autor: Arnaldo Andrade Dias (apócrifo)',\n",
      " '|:| Destinatário: Maria de Lourdes de Lima Oliveira',\n",
      " '|:| Data: 17/04/ 1962',\n",
      " '|:| Versão modernizada',\n",
      " '|:| Encoding: UTF-8']\n"
     ]
    }
   ],
   "source": [
    "printmd('**Metadados do primeiro arquivo:**')\n",
    "pprint([meta for meta in texto if meta.startswith('|:|')])"
   ]
  },
  {
   "cell_type": "markdown",
   "metadata": {},
   "source": [
    "Para otimizar o uso da memória do computador, criamos uma classe que, quando instanciada, processa os documentos do corpus iterativamente, extraindo os metadados e gravando o texto processado num novo arquivo. O texto de cada carta foi processado da seguinte forma:\n",
    "\n",
    "  * removemos espaços desnecessários dos nomes dos remetentes e destinatários; \n",
    "  * tranformamos as cadeias de caracter das datas originais em datas;\n",
    "  * removemos o cabeçalho, com os metadados do arquivo; parte deles foi aproveitada para preencher os valores de identificação da carta, autor, destinatário, e data;\n",
    "  * removemos o texto explicativo geralmente adicionado a cada carta, com informações tais como o tipo de papel usado, o número de folhas, onde a carta estava guardada, etc.\n",
    "  * removemos notas inseridas no manuscrito para identificar mudanças de página, rasuras, borrados, etc.\n",
    "  * removemos notas de rodapé, tipicamente explicando que anotações foram feitas no manuscrito\n",
    "  * separamos trechos demarcados por quebras de linha e pontuações (ponto final, de exclação e de interrogação, ponto e vírgula, e travessão) em linhas. "
   ]
  },
  {
   "cell_type": "code",
   "execution_count": 8,
   "metadata": {},
   "outputs": [],
   "source": [
    "class CartasCorpus:\n",
    "    def __init__(self, arquivos, pasta, ndocs=100, inicio=10):\n",
    "        self.arquivos = arquivos\n",
    "        self.pasta = pasta\n",
    "        self.ndocs = min(len(arquivos),ndocs)\n",
    "        self.inicio = inicio\n",
    "    '''\n",
    "    Para cada os ndocs primeiros arquivos do corpus, os metadados são extraídos e adicionados\n",
    "    ao dataframe passado na criação do objeto. Além disso, o conteúdo do arquivo é processado \n",
    "    de acordo com o tipo de processamento especificado, e gravado num arquivo com o mesmo ID do\n",
    "    arquivo original e o sufixo \"-proc.txt\".\n",
    "    '''    \n",
    "    def __iter__(self):\n",
    "        for fileid in self.arquivos[:self.ndocs]:\n",
    "            meta_dic = dict()            \n",
    "            \n",
    "            ''' Lê o conteúdo do arquivo numa lista de linhas:\n",
    "            '''\n",
    "            with open(fileid, mode=\"r\", encoding=\"utf-8\") as doc:\n",
    "                linhas = [linha.strip(' \\n') for linha in doc.readlines() if len(linha.strip(' \\n')) > 0]\n",
    "                \n",
    "            ''' Cria um dicionário a partir das linhas de metadados:\n",
    "            '''\n",
    "            meta_dic['ID'] = fileid.replace('CE-DOHS/','').replace('-mod.txt','')\n",
    "            \n",
    "            rem = [autor.replace(u'|:| Autor:', '').strip(' .') \\\n",
    "                   for autor in linhas \\\n",
    "                   if u'|:| Autor:' in autor][0]\n",
    "            meta_dic['Remetente'] = rem if len(rem) > 0 else np.NaN\n",
    "            \n",
    "            dest = [dest.replace(u'|:| Destinatário:', '').strip(' .') \\\n",
    "                    for dest in linhas \\\n",
    "                    if u'|:| Destinatário:' in dest][0]\n",
    "            meta_dic['Destinatário'] = dest if len(dest) > 0 else np.NaN\n",
    "            \n",
    "            ''' Tenta obter a data da carta:\n",
    "            '''\n",
    "            data = [data.replace(u'|:| Data:', '').strip(' .').lower() \\\n",
    "                    for data in linhas \\\n",
    "                    if u'|:| Data:' in data][0]\n",
    "            meses = ['janeiro','fevereiro','mar','abril','maio','junho',\n",
    "                     'julho','agosto','setembro','outubro','novembro','dezembro'] \n",
    "            mes = [mes for mes in meses if mes in data]\n",
    "            if mes:\n",
    "                data = data.replace(mes[0], '/' + str(meses.index(mes[0]) + 1) + '/')\n",
    "            data_num = re.compile('[0-9\\/]')\n",
    "            data = data_num.findall(data)\n",
    "            data = ''.join(data)\n",
    "            try:\n",
    "                data_dt = pd.to_datetime(data, infer_datetime_format=True)\n",
    "                if pd.isna(data_dt) or data_dt.year > 2000 or data_dt.year < 1823:\n",
    "                    data = self.data_id(fileid)\n",
    "                else:\n",
    "                    data = data_dt.strftime(\"%d/%m/%Y\")\n",
    "            except:\n",
    "                data = self.data_id(fileid)\n",
    "            meta_dic['Data'] = data\n",
    "                \n",
    "            ''' Processa as linhas e retorna uma nova lista com elementos do\n",
    "                tipo especificado:\n",
    "            '''\n",
    "            texto = self.proc_texto(linhas, self.inicio)\n",
    "                \n",
    "            ''' Grava o arquivo com o texto processado no diretório 'CE-DOHS-proc/':\n",
    "            '''\n",
    "            if not os.path.exists(self.pasta):\n",
    "                os.makedirs(self.pasta)\n",
    "                \n",
    "            nome = self.pasta + meta_dic['ID'] + '-proc.txt'\n",
    "            with open(nome,'w+') as arquivo:\n",
    "                arquivo.writelines(\"%s\\n\" % linha for linha in texto)                    \n",
    "                \n",
    "            yield meta_dic\n",
    "                    \n",
    "    def data_id(self, fileid):\n",
    "        '''\n",
    "        No corpus Corpus Eletrônico de Documentos Históricos do Sertão, a maior parte dos\n",
    "        nomes dos arquivos inclui a data da carta. Esta função tenta recuperar essa data \n",
    "        a partir do nome do arquivo. O resultado gerado é um objeto to tipo datetime ou NaN.\n",
    "        '''\n",
    "        data_num = re.compile('[0-9]{2}-[0-9]{2}-[0-9]{4}')\n",
    "        data = data_num.findall(fileid)\n",
    "        if data:\n",
    "            try:\n",
    "                data_dt = pd.to_datetime(data[0], format='%d-%m-%Y')\n",
    "                if pd.isna(data_dt):\n",
    "                    return np.NaN\n",
    "                else:\n",
    "                    return data_dt.strftime(\"%d/%m/%Y\") \n",
    "            except:\n",
    "                return np.NaN\n",
    "        else:\n",
    "            return np.NaN\n",
    "\n",
    "    def proc_texto(self, linhas, inicio):\n",
    "        '''\n",
    "        Processa cada linha do conteúdo do documento, a partir da linha de inicial passada (inicio),\n",
    "        de acordo com o tipo de processamento especificado. Retorna uma lista com os resultados.\n",
    "        '''\n",
    "        ''' Converte as linhas do texto num único string:\n",
    "        '''\n",
    "        texto = linhas[inicio:len(linhas)]\n",
    "        texto = '\\n'.join(texto)\n",
    "        \n",
    "        ''' Elimina caracteres e comentários indesejáveis:\n",
    "        '''\n",
    "        texto = texto.replace('[pag]', '')\n",
    "        texto = re.sub('\\[footer:([\\\\n a-zA-Z0-9áàâãéèêíïóôõöúçñÁÀÂÃÉÈÍÏÓÔÕÖÚÇÑ.,!?;:<>()-_#\\'\\\"‘’“”]*)\\]',\n",
    "                                 '', texto)\n",
    "        texto = re.sub('\\[header:[ ]*\\]', '\\n', texto)\n",
    "        texto = re.sub('[|]*[ ]*[Ff]l. [0-9] [rv]', ' ', texto)\n",
    "        texto = re.sub('[0-9][ ]*Rasura[do]*[ .]*', ' ', texto)\n",
    "        texto = re.sub('[0-9][ ]*Borrado[ .]*', ' ', texto)\n",
    "        texto = re.sub('\\[[ ]*[Rr]ubrica[ ]*\\]', ' ', texto)\n",
    "        texto = re.sub('\\[[ ]*[Rr]asura[ ]*\\]', ' ', texto)\n",
    "        texto = re.sub('\\[[ ]*[Ii]nint[ ]*.[ ]*\\]', ' ', texto)\n",
    "        texto = texto.strip()\n",
    "        \n",
    "        linhas = [linha for linha in texto.split('\\n') if len(linha) > 0]\n",
    "        linhas = self.quebra_linhas(linhas, ['?', '!', '.', ';', '–'])\n",
    "        \n",
    "        return linhas\n",
    "    \n",
    "    def quebra_linhas(self, linhas, pontos):\n",
    "        for ponto in pontos:\n",
    "            novas = []\n",
    "            for linha in linhas:\n",
    "                if ponto in linha:\n",
    "                    novas.extend([l.strip('[]-,:‘’“”\\'\\\" ') for l in linha.split(ponto) if len(l) > 0])\n",
    "                else:\n",
    "                    if len(linha) > 0:\n",
    "                        novas.extend([linha])\n",
    "            linhas = novas\n",
    "        return novas\n"
   ]
  },
  {
   "cell_type": "markdown",
   "metadata": {},
   "source": [
    "Instanciamos a classe criando um objeto que se comporta como um iterador. O processamento dos textos do corpus só é efetivamente realizado ao longo das iterações do *loop* `for doc in dic:` no trecho de código a seguir."
   ]
  },
  {
   "cell_type": "code",
   "execution_count": 9,
   "metadata": {},
   "outputs": [],
   "source": [
    "metadados = pd.DataFrame(columns=['ID', 'Remetente', 'Destinatário', 'Data'])\n",
    "\n",
    "dic = CartasCorpus(arquivos, 'CE-DOHS-proc/', ndocs=10000)\n",
    "\n",
    "for doc in dic:\n",
    "    metadados = metadados.append(doc, ignore_index=True)"
   ]
  },
  {
   "cell_type": "markdown",
   "metadata": {},
   "source": [
    "Abaixo, motramos o dataframe com os resultados da extração dos metadados dos textos do corpus."
   ]
  },
  {
   "cell_type": "code",
   "execution_count": 10,
   "metadata": {},
   "outputs": [
    {
     "data": {
      "text/html": [
       "<div>\n",
       "<style scoped>\n",
       "    .dataframe tbody tr th:only-of-type {\n",
       "        vertical-align: middle;\n",
       "    }\n",
       "\n",
       "    .dataframe tbody tr th {\n",
       "        vertical-align: top;\n",
       "    }\n",
       "\n",
       "    .dataframe thead th {\n",
       "        text-align: right;\n",
       "    }\n",
       "</style>\n",
       "<table border=\"1\" class=\"dataframe\">\n",
       "  <thead>\n",
       "    <tr style=\"text-align: right;\">\n",
       "      <th></th>\n",
       "      <th>ID</th>\n",
       "      <th>Remetente</th>\n",
       "      <th>Destinatário</th>\n",
       "      <th>Data</th>\n",
       "    </tr>\n",
       "  </thead>\n",
       "  <tbody>\n",
       "    <tr>\n",
       "      <th>0</th>\n",
       "      <td>01-AAD-17-04-1962</td>\n",
       "      <td>Arnaldo Andrade Dias (apócrifo)</td>\n",
       "      <td>Maria de Lourdes de Lima Oliveira</td>\n",
       "      <td>17/04/1962</td>\n",
       "    </tr>\n",
       "    <tr>\n",
       "      <th>1</th>\n",
       "      <td>01-ACST-14-01-1952</td>\n",
       "      <td>Antonio Carneiro da Silva Tuy</td>\n",
       "      <td>Maria de Souza Estrela</td>\n",
       "      <td>14/01/1952</td>\n",
       "    </tr>\n",
       "    <tr>\n",
       "      <th>2</th>\n",
       "      <td>01-AFS-28-04-1956</td>\n",
       "      <td>Antonio Fortunato da Silva</td>\n",
       "      <td>João Carneiro de Oliveira</td>\n",
       "      <td>28/04/1956</td>\n",
       "    </tr>\n",
       "    <tr>\n",
       "      <th>3</th>\n",
       "      <td>01-APACA-14-01-1980</td>\n",
       "      <td>Adelmário Carneiro de Araújo</td>\n",
       "      <td>Eliana de Oliveira Lima</td>\n",
       "      <td>14/01/1980</td>\n",
       "    </tr>\n",
       "    <tr>\n",
       "      <th>4</th>\n",
       "      <td>01-ASA-14-05-1955</td>\n",
       "      <td>Acioly Silva Araújo</td>\n",
       "      <td>Dantas Junior</td>\n",
       "      <td>14/05/1955</td>\n",
       "    </tr>\n",
       "    <tr>\n",
       "      <th>...</th>\n",
       "      <td>...</td>\n",
       "      <td>...</td>\n",
       "      <td>...</td>\n",
       "      <td>...</td>\n",
       "    </tr>\n",
       "    <tr>\n",
       "      <th>1180</th>\n",
       "      <td>98-VOV-28-11-1934</td>\n",
       "      <td>Virginia Ottoni Vieira</td>\n",
       "      <td>Yáyá</td>\n",
       "      <td>28/11/1934</td>\n",
       "    </tr>\n",
       "    <tr>\n",
       "      <th>1181</th>\n",
       "      <td>99-AJN-26-05-1878</td>\n",
       "      <td>Antonio Jose Nogueira</td>\n",
       "      <td>Doutor Martim Francisco Ribeiro de Andrade</td>\n",
       "      <td>26/05/1878</td>\n",
       "    </tr>\n",
       "    <tr>\n",
       "      <th>1182</th>\n",
       "      <td>99-DCO</td>\n",
       "      <td>Doralice Carneiro de Oliveira Jesus</td>\n",
       "      <td>Zenilta Bispo de Oliveira</td>\n",
       "      <td>NaN</td>\n",
       "    </tr>\n",
       "    <tr>\n",
       "      <th>1183</th>\n",
       "      <td>99-HRS-01-01-1931</td>\n",
       "      <td>Hermínio Reis [Silva]</td>\n",
       "      <td>Dantas Junior</td>\n",
       "      <td>01/01/1931</td>\n",
       "    </tr>\n",
       "    <tr>\n",
       "      <th>1184</th>\n",
       "      <td>99-VOV-18-03-1935</td>\n",
       "      <td>Virginia Ottoni Vieira</td>\n",
       "      <td>Yáyá</td>\n",
       "      <td>18/03/1935</td>\n",
       "    </tr>\n",
       "  </tbody>\n",
       "</table>\n",
       "<p>1185 rows × 4 columns</p>\n",
       "</div>"
      ],
      "text/plain": [
       "                       ID                            Remetente  \\\n",
       "0     01-AAD-17-04-1962    Arnaldo Andrade Dias (apócrifo)       \n",
       "1     01-ACST-14-01-1952   Antonio Carneiro da Silva Tuy         \n",
       "2     01-AFS-28-04-1956    Antonio Fortunato da Silva            \n",
       "3     01-APACA-14-01-1980  Adelmário Carneiro de Araújo          \n",
       "4     01-ASA-14-05-1955    Acioly Silva Araújo                   \n",
       "...                 ...                    ...                   \n",
       "1180  98-VOV-28-11-1934    Virginia Ottoni Vieira                \n",
       "1181  99-AJN-26-05-1878    Antonio Jose Nogueira                 \n",
       "1182  99-DCO               Doralice Carneiro de Oliveira Jesus   \n",
       "1183  99-HRS-01-01-1931    Hermínio Reis [Silva]                 \n",
       "1184  99-VOV-18-03-1935    Virginia Ottoni Vieira                \n",
       "\n",
       "                                    Destinatário        Data  \n",
       "0     Maria de Lourdes de Lima Oliveira           17/04/1962  \n",
       "1     Maria de Souza Estrela                      14/01/1952  \n",
       "2     João Carneiro de Oliveira                   28/04/1956  \n",
       "3     Eliana de Oliveira Lima                     14/01/1980  \n",
       "4     Dantas Junior                               14/05/1955  \n",
       "...             ...                                      ...  \n",
       "1180  Yáyá                                        28/11/1934  \n",
       "1181  Doutor Martim Francisco Ribeiro de Andrade  26/05/1878  \n",
       "1182  Zenilta Bispo de Oliveira                   NaN         \n",
       "1183  Dantas Junior                               01/01/1931  \n",
       "1184  Yáyá                                        18/03/1935  \n",
       "\n",
       "[1185 rows x 4 columns]"
      ]
     },
     "execution_count": 10,
     "metadata": {},
     "output_type": "execute_result"
    }
   ],
   "source": [
    "metadados"
   ]
  },
  {
   "cell_type": "markdown",
   "metadata": {},
   "source": [
    "O conteúdo processado do primeiro arquivo é exibido a seguir."
   ]
  },
  {
   "cell_type": "code",
   "execution_count": 11,
   "metadata": {
    "scrolled": true
   },
   "outputs": [
    {
     "name": "stdout",
     "output_type": "stream",
     "text": [
      "['São Paulo 17 de abril 1962',\n",
      " 'Inesquicível Lurdes',\n",
      " 'Adeus ao longe ,',\n",
      " 'Em uma tarde tristonho , cheio de saudade , que peguei em minha rude caneta '\n",
      " 'para te escrever dando as minhas notícias , que 1 de saúde vou bem só o que '\n",
      " 'me mata 2 é a cruel se 3 lembrança de você',\n",
      " 'Talvez você não acredite meu amor mais quando chega 4 o domingo fico na '\n",
      " 'impressão que a tarde vou te ver e a inda mais aumenta o meu sofrer pois já '\n",
      " 'estou arrependido da hora que me ausentei de lá',\n",
      " 'Embora já sabia que não suportava viver ausente de te meu amor , tentei só '\n",
      " 'para sofrer , parece-me que tu és a única pessoa que Deus deixou para eu '\n",
      " 'amar com todo amor que meu jovem coração encerra',\n",
      " 'Sem mais abraços fortes para você e aceite mil recordações',\n",
      " 'deste que te ama sem falsidade até o fim , do seu amor que muito te quer',\n",
      " 'Arnaldo Andrade Dias']\n"
     ]
    }
   ],
   "source": [
    "fileid = 'CE-DOHS-proc/' + metadados.ID[0] + '-proc.txt'\n",
    "with open(fileid, mode=\"r\", encoding=\"utf-8\") as doc:\n",
    "    linhas = [linha.strip('\\n') for linha in doc.readlines()]\n",
    "pprint(linhas)"
   ]
  },
  {
   "cell_type": "markdown",
   "metadata": {},
   "source": [
    "## Análise exploratória dos metadados"
   ]
  },
  {
   "cell_type": "markdown",
   "metadata": {},
   "source": [
    "### Número de cartas por ano"
   ]
  },
  {
   "cell_type": "markdown",
   "metadata": {},
   "source": [
    "Uma vez que desejávamos avaliar as diferenças entre tópicos e significados de palavras ao longo tempo, era importante avaliar como os textos analisados estavam distribuídos ao longo do período compreendido no corpus (1823-2000). O gráfico a seguir mostra a evolução do número de cartas disponíveis em cada ano desse período. "
   ]
  },
  {
   "cell_type": "code",
   "execution_count": 12,
   "metadata": {
    "scrolled": true
   },
   "outputs": [],
   "source": [
    "anos = [data[-4:] if not pd.isnull(data) else np.nan for data in metadados.Data.tolist()]\n",
    "anos = [int(ano) if not pd.isnull(ano) else np.nan for ano in anos]\n",
    "freq = pd.DataFrame(Counter(anos).items(), columns=['Ano','Frequência']).sort_values(by='Ano')"
   ]
  },
  {
   "cell_type": "code",
   "execution_count": 13,
   "metadata": {},
   "outputs": [
    {
     "data": {
      "image/png": "[encoded data removed]",
      "text/plain": [
       "<Figure size 432x288 with 1 Axes>"
      ]
     },
     "metadata": {
      "needs_background": "light"
     },
     "output_type": "display_data"
    }
   ],
   "source": [
    "ax = sb.lineplot(x='Ano', y='Frequência', data=freq)\n",
    "ax.set_title('Número de Cartas no Corpus por Ano')\n",
    "plt.show()"
   ]
  },
  {
   "cell_type": "markdown",
   "metadata": {},
   "source": [
    "O gráfico acima mostra diferenças substanciais no número de documentos por ano. Além disso, na maior parte dos anos, a frequência é inferior a 30 documentos. Antevendo a necessidade de treinamento dos modelos usados nas análises posteriores, decidimos avaliar possibilidades de agregação por intervalo de tempo (ex., 10 em 10 anos, 20 em 20, etc.). Os resultados para algumas alternativas são apresentados nos próximos gráficos."
   ]
  },
  {
   "cell_type": "code",
   "execution_count": 14,
   "metadata": {},
   "outputs": [],
   "source": [
    "def bar_periodo(dados, inicio=1823, periodo=10, fim=2000):\n",
    "    freq_dic = dict()\n",
    "    freq_dic[inicio] = freq.loc[[ano <= inicio \\\n",
    "                                 if not pd.isnull(ano) else False \\\n",
    "                                 for ano in freq.Ano]]['Frequência'].sum()\n",
    "    for decada in range(inicio, fim, periodo):\n",
    "        limite = decada + periodo if decada + periodo < fim else 2000\n",
    "        freq_dic[limite] = freq.loc[[(ano > decada and ano <= limite) \\\n",
    "                                               if not pd.isnull(ano) else False \\\n",
    "                                               for ano in freq.Ano]]['Frequência'].sum()\n",
    "    freq_periodo = pd.DataFrame(columns=['Ano', 'Frequência'])\n",
    "    freq_periodo.Ano = freq_dic.keys()\n",
    "    freq_periodo.Frequência = freq_dic.values()\n",
    "    ax = sb.barplot(x='Ano', y='Frequência', data=freq_periodo)\n",
    "    ax.set_xticklabels(ax.get_xticklabels(), rotation=45)\n",
    "    ax.set_title('Número de Cartas por Período')\n",
    "    plt.show()"
   ]
  },
  {
   "cell_type": "code",
   "execution_count": 15,
   "metadata": {},
   "outputs": [
    {
     "data": {
      "image/png": "[encoded data removed]",
      "text/plain": [
       "<Figure size 432x288 with 1 Axes>"
      ]
     },
     "metadata": {
      "needs_background": "light"
     },
     "output_type": "display_data"
    }
   ],
   "source": [
    "bar_periodo(freq, 1820, 10, 2000)"
   ]
  },
  {
   "cell_type": "code",
   "execution_count": 16,
   "metadata": {},
   "outputs": [
    {
     "data": {
      "image/png": "[encoded data removed]",
      "text/plain": [
       "<Figure size 432x288 with 1 Axes>"
      ]
     },
     "metadata": {
      "needs_background": "light"
     },
     "output_type": "display_data"
    }
   ],
   "source": [
    "bar_periodo(freq, 1820, 20, 2000)"
   ]
  },
  {
   "cell_type": "code",
   "execution_count": 17,
   "metadata": {},
   "outputs": [
    {
     "data": {
      "image/png": "[encoded data removed]",
      "text/plain": [
       "<Figure size 432x288 with 1 Axes>"
      ]
     },
     "metadata": {
      "needs_background": "light"
     },
     "output_type": "display_data"
    }
   ],
   "source": [
    "bar_periodo(freq, 1880, 20, 1980)"
   ]
  },
  {
   "cell_type": "code",
   "execution_count": 18,
   "metadata": {},
   "outputs": [
    {
     "data": {
      "image/png": "[encoded data removed]",
      "text/plain": [
       "<Figure size 432x288 with 1 Axes>"
      ]
     },
     "metadata": {
      "needs_background": "light"
     },
     "output_type": "display_data"
    }
   ],
   "source": [
    "bar_periodo(freq, 1890, 30, 1980)"
   ]
  },
  {
   "cell_type": "markdown",
   "metadata": {},
   "source": [
    "A opção de agrupamento acima é bem equilibrada em termos de número de documentos por período (entre 250 e 300 cartas). Além disso, inclui um número de faixas suficiente para representar períodos importantes da história brasileira:\n",
    "\n",
    "  - **1823-1890**: Império\n",
    "  - **1890-1920**: início da República\n",
    "  - **1920-1950**: era Vargas, Segunda Grande Guerra, Juscelino Kubitschek\n",
    "  - **1950-2000**: ditadura e democratização\n",
    "  \n",
    "Esses períodos foram adotados na análise longitudinal de tópicos e significados, descrita posteriormente."
   ]
  },
  {
   "cell_type": "markdown",
   "metadata": {},
   "source": [
    "### Remetentes e destinatários"
   ]
  },
  {
   "cell_type": "markdown",
   "metadata": {},
   "source": [
    "Os metadados coletados incluem informações do remetente e do destinatário de uma carta. Verificamos que o número de remetentes únicos é bastante superior ao de destinatários. Além disso, ambos representam percentuais relativamente baixos do total de cartas do corpus. Logo, há mais de uma carta de um mesmo remetente, e várias cartas para um mesmo destinatário."
   ]
  },
  {
   "cell_type": "code",
   "execution_count": 19,
   "metadata": {},
   "outputs": [
    {
     "data": {
      "text/markdown": [
       "**Número de remetentes únicos no corpus: <font color=\"gray\">555 (46.84%)</font>**"
      ],
      "text/plain": [
       "<IPython.core.display.Markdown object>"
      ]
     },
     "metadata": {},
     "output_type": "display_data"
    },
    {
     "data": {
      "text/markdown": [
       "**Número de destinatários únicos no corpus: <font color=\"gray\">234 (19.75%)</font>**"
      ],
      "text/plain": [
       "<IPython.core.display.Markdown object>"
      ]
     },
     "metadata": {},
     "output_type": "display_data"
    }
   ],
   "source": [
    "remetentes = len(metadados.Remetente.unique())\n",
    "destinatarios = len(metadados.Destinatário.unique())\n",
    "n_cartas = metadados.shape[0]\n",
    "\n",
    "printmd('**Número de remetentes únicos no corpus: <font color=\"gray\">' + \n",
    "        str(remetentes) + ' (' + str(round(100*remetentes/n_cartas, 2)) + '%)</font>**')\n",
    "printmd('**Número de destinatários únicos no corpus: <font color=\"gray\">' + \n",
    "        str(destinatarios) + ' (' + \n",
    "        str(round(100*destinatarios/n_cartas, 2)) + '%)</font>**')"
   ]
  },
  {
   "cell_type": "markdown",
   "metadata": {},
   "source": [
    "O histograma do número de cartas de cada remetente indica que a vasta maioria dos remetentes escreveu menos de 10 cartas. Em torno de 3.2% dos remententes no corpus foram autores de mais de 10 documentos."
   ]
  },
  {
   "cell_type": "code",
   "execution_count": 20,
   "metadata": {},
   "outputs": [
    {
     "data": {
      "image/png": "[encoded data removed]",
      "text/plain": [
       "<Figure size 432x288 with 1 Axes>"
      ]
     },
     "metadata": {
      "needs_background": "light"
     },
     "output_type": "display_data"
    }
   ],
   "source": [
    "freq_rem = pd.DataFrame(Counter(metadados.Remetente).items(), \n",
    "                        columns=['Remetente', 'Frequência'])\\\n",
    "             .sort_values(by=['Frequência'], ascending=False)\n",
    "\n",
    "ax = sb.distplot(freq_rem.Frequência, kde=False, rug=True)\n",
    "ax.set_title('Histograma do Número de Cartas por Remetente')\n",
    "plt.show()"
   ]
  },
  {
   "cell_type": "code",
   "execution_count": 21,
   "metadata": {},
   "outputs": [
    {
     "data": {
      "text/markdown": [
       "**Número de remetentes com mais de 10 cartas no corpus: <font color=\"gray\">18 (3.24%)</font>**"
      ],
      "text/plain": [
       "<IPython.core.display.Markdown object>"
      ]
     },
     "metadata": {},
     "output_type": "display_data"
    }
   ],
   "source": [
    "n_rem = len(freq_rem.loc[freq_rem.Frequência > 10])\n",
    "\n",
    "printmd('**Número de remetentes com mais de 10 cartas no corpus: <font color=\"gray\">' + \n",
    "        str(n_rem) + ' (' + str(round(100*n_rem/remetentes, 2)) + '%)</font>**')"
   ]
  },
  {
   "cell_type": "code",
   "execution_count": 22,
   "metadata": {},
   "outputs": [
    {
     "data": {
      "text/markdown": [
       "<br/>**Remetentes de mais de 10 cartas:**"
      ],
      "text/plain": [
       "<IPython.core.display.Markdown object>"
      ]
     },
     "metadata": {},
     "output_type": "display_data"
    },
    {
     "data": {
      "text/html": [
       "<div>\n",
       "<style scoped>\n",
       "    .dataframe tbody tr th:only-of-type {\n",
       "        vertical-align: middle;\n",
       "    }\n",
       "\n",
       "    .dataframe tbody tr th {\n",
       "        vertical-align: top;\n",
       "    }\n",
       "\n",
       "    .dataframe thead th {\n",
       "        text-align: right;\n",
       "    }\n",
       "</style>\n",
       "<table border=\"1\" class=\"dataframe\">\n",
       "  <thead>\n",
       "    <tr style=\"text-align: right;\">\n",
       "      <th></th>\n",
       "      <th>Remetente</th>\n",
       "      <th>Frequência</th>\n",
       "    </tr>\n",
       "  </thead>\n",
       "  <tbody>\n",
       "    <tr>\n",
       "      <th>266</th>\n",
       "      <td>Aracy Leonardo Pereira</td>\n",
       "      <td>52</td>\n",
       "    </tr>\n",
       "    <tr>\n",
       "      <th>8</th>\n",
       "      <td>João Pinto Leite</td>\n",
       "      <td>33</td>\n",
       "    </tr>\n",
       "    <tr>\n",
       "      <th>2</th>\n",
       "      <td>Antonio Fortunato da Silva</td>\n",
       "      <td>26</td>\n",
       "    </tr>\n",
       "    <tr>\n",
       "      <th>5</th>\n",
       "      <td>Antonia Thereza Wanderley</td>\n",
       "      <td>25</td>\n",
       "    </tr>\n",
       "    <tr>\n",
       "      <th>144</th>\n",
       "      <td>Benicio Penalva de Faria (B. Penalva)</td>\n",
       "      <td>24</td>\n",
       "    </tr>\n",
       "    <tr>\n",
       "      <th>262</th>\n",
       "      <td>Francisco Mendes da Rocha</td>\n",
       "      <td>20</td>\n",
       "    </tr>\n",
       "    <tr>\n",
       "      <th>0</th>\n",
       "      <td>Arnaldo Andrade Dias (apócrifo)</td>\n",
       "      <td>20</td>\n",
       "    </tr>\n",
       "    <tr>\n",
       "      <th>41</th>\n",
       "      <td>F. Octaviano [Francisco Octaviano de Almeida Rosa]</td>\n",
       "      <td>17</td>\n",
       "    </tr>\n",
       "    <tr>\n",
       "      <th>11</th>\n",
       "      <td>Renée da Silva Barros Soledade</td>\n",
       "      <td>15</td>\n",
       "    </tr>\n",
       "    <tr>\n",
       "      <th>17</th>\n",
       "      <td>Otto Soledade Júnior</td>\n",
       "      <td>15</td>\n",
       "    </tr>\n",
       "    <tr>\n",
       "      <th>95</th>\n",
       "      <td>Ângela Margarida Mesquita</td>\n",
       "      <td>14</td>\n",
       "    </tr>\n",
       "    <tr>\n",
       "      <th>111</th>\n",
       "      <td>B. de Cotegipe [João Mauricio Wanderley]</td>\n",
       "      <td>14</td>\n",
       "    </tr>\n",
       "    <tr>\n",
       "      <th>407</th>\n",
       "      <td>Marcelino Pereira de Miranda</td>\n",
       "      <td>13</td>\n",
       "    </tr>\n",
       "    <tr>\n",
       "      <th>231</th>\n",
       "      <td>Renato Reis Galvão</td>\n",
       "      <td>12</td>\n",
       "    </tr>\n",
       "    <tr>\n",
       "      <th>6</th>\n",
       "      <td>Carlos Ribeiro Freire</td>\n",
       "      <td>12</td>\n",
       "    </tr>\n",
       "    <tr>\n",
       "      <th>457</th>\n",
       "      <td>Regina Célia Siqueira dos Santos</td>\n",
       "      <td>11</td>\n",
       "    </tr>\n",
       "    <tr>\n",
       "      <th>527</th>\n",
       "      <td>Maria Luiza Wanderley de Araújo Pinho</td>\n",
       "      <td>11</td>\n",
       "    </tr>\n",
       "    <tr>\n",
       "      <th>417</th>\n",
       "      <td>Quintino José Galo</td>\n",
       "      <td>11</td>\n",
       "    </tr>\n",
       "  </tbody>\n",
       "</table>\n",
       "</div>"
      ],
      "text/plain": [
       "                                              Remetente  Frequência\n",
       "266  Aracy Leonardo Pereira                              52        \n",
       "8    João Pinto Leite                                    33        \n",
       "2    Antonio Fortunato da Silva                          26        \n",
       "5    Antonia Thereza Wanderley                           25        \n",
       "144  Benicio Penalva de Faria (B. Penalva)               24        \n",
       "262  Francisco Mendes da Rocha                           20        \n",
       "0    Arnaldo Andrade Dias (apócrifo)                     20        \n",
       "41   F. Octaviano [Francisco Octaviano de Almeida Rosa]  17        \n",
       "11   Renée da Silva Barros Soledade                      15        \n",
       "17   Otto Soledade Júnior                                15        \n",
       "95   Ângela Margarida Mesquita                           14        \n",
       "111  B. de Cotegipe [João Mauricio Wanderley]            14        \n",
       "407  Marcelino Pereira de Miranda                        13        \n",
       "231  Renato Reis Galvão                                  12        \n",
       "6    Carlos Ribeiro Freire                               12        \n",
       "457  Regina Célia Siqueira dos Santos                    11        \n",
       "527  Maria Luiza Wanderley de Araújo Pinho               11        \n",
       "417  Quintino José Galo                                  11        "
      ]
     },
     "execution_count": 22,
     "metadata": {},
     "output_type": "execute_result"
    }
   ],
   "source": [
    "printmd('<br/>**Remetentes de mais de 10 cartas:**')\n",
    "freq_rem.loc[freq_rem.Frequência > 10]"
   ]
  },
  {
   "cell_type": "markdown",
   "metadata": {},
   "source": [
    "Da mesma forma, vemos que poucas pessoas foram destinatárias de mais de 10 cartas. "
   ]
  },
  {
   "cell_type": "code",
   "execution_count": 23,
   "metadata": {
    "scrolled": false
   },
   "outputs": [
    {
     "data": {
      "image/png": "[encoded data removed]",
      "text/plain": [
       "<Figure size 432x288 with 1 Axes>"
      ]
     },
     "metadata": {
      "needs_background": "light"
     },
     "output_type": "display_data"
    }
   ],
   "source": [
    "freq_dest = pd.DataFrame(Counter(metadados.Remetente).items(), \n",
    "                        columns=['Destinatário', 'Frequência'])\\\n",
    "             .sort_values(by=['Frequência'], ascending=False)\n",
    "\n",
    "ax = sb.distplot(freq_dest.Frequência, kde=False, rug=True)\n",
    "ax.set_title('Histograma do Número de Cartas por Destinatário')\n",
    "plt.show()"
   ]
  },
  {
   "cell_type": "code",
   "execution_count": 24,
   "metadata": {},
   "outputs": [
    {
     "data": {
      "text/markdown": [
       "**Número de destinatários com mais de 10 cartas no corpus: <font color=\"gray\">18 (7.69%)</font>**"
      ],
      "text/plain": [
       "<IPython.core.display.Markdown object>"
      ]
     },
     "metadata": {},
     "output_type": "display_data"
    }
   ],
   "source": [
    "n_dest = len(freq_dest.loc[freq_dest.Frequência > 10])\n",
    "\n",
    "printmd('**Número de destinatários com mais de 10 cartas no corpus: <font color=\"gray\">' + \n",
    "        str(n_dest) + ' (' + \n",
    "        str(round(100*n_dest/destinatarios, 2)) + '%)</font>**')"
   ]
  },
  {
   "cell_type": "code",
   "execution_count": 25,
   "metadata": {},
   "outputs": [
    {
     "data": {
      "text/markdown": [
       "<br/>**Destinatários de mais de 10 cartas:**"
      ],
      "text/plain": [
       "<IPython.core.display.Markdown object>"
      ]
     },
     "metadata": {},
     "output_type": "display_data"
    },
    {
     "data": {
      "text/html": [
       "<div>\n",
       "<style scoped>\n",
       "    .dataframe tbody tr th:only-of-type {\n",
       "        vertical-align: middle;\n",
       "    }\n",
       "\n",
       "    .dataframe tbody tr th {\n",
       "        vertical-align: top;\n",
       "    }\n",
       "\n",
       "    .dataframe thead th {\n",
       "        text-align: right;\n",
       "    }\n",
       "</style>\n",
       "<table border=\"1\" class=\"dataframe\">\n",
       "  <thead>\n",
       "    <tr style=\"text-align: right;\">\n",
       "      <th></th>\n",
       "      <th>Destinatário</th>\n",
       "      <th>Frequência</th>\n",
       "    </tr>\n",
       "  </thead>\n",
       "  <tbody>\n",
       "    <tr>\n",
       "      <th>266</th>\n",
       "      <td>Aracy Leonardo Pereira</td>\n",
       "      <td>52</td>\n",
       "    </tr>\n",
       "    <tr>\n",
       "      <th>8</th>\n",
       "      <td>João Pinto Leite</td>\n",
       "      <td>33</td>\n",
       "    </tr>\n",
       "    <tr>\n",
       "      <th>2</th>\n",
       "      <td>Antonio Fortunato da Silva</td>\n",
       "      <td>26</td>\n",
       "    </tr>\n",
       "    <tr>\n",
       "      <th>5</th>\n",
       "      <td>Antonia Thereza Wanderley</td>\n",
       "      <td>25</td>\n",
       "    </tr>\n",
       "    <tr>\n",
       "      <th>144</th>\n",
       "      <td>Benicio Penalva de Faria (B. Penalva)</td>\n",
       "      <td>24</td>\n",
       "    </tr>\n",
       "    <tr>\n",
       "      <th>262</th>\n",
       "      <td>Francisco Mendes da Rocha</td>\n",
       "      <td>20</td>\n",
       "    </tr>\n",
       "    <tr>\n",
       "      <th>0</th>\n",
       "      <td>Arnaldo Andrade Dias (apócrifo)</td>\n",
       "      <td>20</td>\n",
       "    </tr>\n",
       "    <tr>\n",
       "      <th>41</th>\n",
       "      <td>F. Octaviano [Francisco Octaviano de Almeida Rosa]</td>\n",
       "      <td>17</td>\n",
       "    </tr>\n",
       "    <tr>\n",
       "      <th>11</th>\n",
       "      <td>Renée da Silva Barros Soledade</td>\n",
       "      <td>15</td>\n",
       "    </tr>\n",
       "    <tr>\n",
       "      <th>17</th>\n",
       "      <td>Otto Soledade Júnior</td>\n",
       "      <td>15</td>\n",
       "    </tr>\n",
       "    <tr>\n",
       "      <th>95</th>\n",
       "      <td>Ângela Margarida Mesquita</td>\n",
       "      <td>14</td>\n",
       "    </tr>\n",
       "    <tr>\n",
       "      <th>111</th>\n",
       "      <td>B. de Cotegipe [João Mauricio Wanderley]</td>\n",
       "      <td>14</td>\n",
       "    </tr>\n",
       "    <tr>\n",
       "      <th>407</th>\n",
       "      <td>Marcelino Pereira de Miranda</td>\n",
       "      <td>13</td>\n",
       "    </tr>\n",
       "    <tr>\n",
       "      <th>231</th>\n",
       "      <td>Renato Reis Galvão</td>\n",
       "      <td>12</td>\n",
       "    </tr>\n",
       "    <tr>\n",
       "      <th>6</th>\n",
       "      <td>Carlos Ribeiro Freire</td>\n",
       "      <td>12</td>\n",
       "    </tr>\n",
       "    <tr>\n",
       "      <th>457</th>\n",
       "      <td>Regina Célia Siqueira dos Santos</td>\n",
       "      <td>11</td>\n",
       "    </tr>\n",
       "    <tr>\n",
       "      <th>527</th>\n",
       "      <td>Maria Luiza Wanderley de Araújo Pinho</td>\n",
       "      <td>11</td>\n",
       "    </tr>\n",
       "    <tr>\n",
       "      <th>417</th>\n",
       "      <td>Quintino José Galo</td>\n",
       "      <td>11</td>\n",
       "    </tr>\n",
       "  </tbody>\n",
       "</table>\n",
       "</div>"
      ],
      "text/plain": [
       "                                           Destinatário  Frequência\n",
       "266  Aracy Leonardo Pereira                              52        \n",
       "8    João Pinto Leite                                    33        \n",
       "2    Antonio Fortunato da Silva                          26        \n",
       "5    Antonia Thereza Wanderley                           25        \n",
       "144  Benicio Penalva de Faria (B. Penalva)               24        \n",
       "262  Francisco Mendes da Rocha                           20        \n",
       "0    Arnaldo Andrade Dias (apócrifo)                     20        \n",
       "41   F. Octaviano [Francisco Octaviano de Almeida Rosa]  17        \n",
       "11   Renée da Silva Barros Soledade                      15        \n",
       "17   Otto Soledade Júnior                                15        \n",
       "95   Ângela Margarida Mesquita                           14        \n",
       "111  B. de Cotegipe [João Mauricio Wanderley]            14        \n",
       "407  Marcelino Pereira de Miranda                        13        \n",
       "231  Renato Reis Galvão                                  12        \n",
       "6    Carlos Ribeiro Freire                               12        \n",
       "457  Regina Célia Siqueira dos Santos                    11        \n",
       "527  Maria Luiza Wanderley de Araújo Pinho               11        \n",
       "417  Quintino José Galo                                  11        "
      ]
     },
     "execution_count": 25,
     "metadata": {},
     "output_type": "execute_result"
    }
   ],
   "source": [
    "printmd('<br/>**Destinatários de mais de 10 cartas:**')\n",
    "freq_dest.loc[freq_dest.Frequência > 10]"
   ]
  },
  {
   "cell_type": "markdown",
   "metadata": {},
   "source": [
    "## Modelagem de tópicos"
   ]
  },
  {
   "cell_type": "markdown",
   "metadata": {},
   "source": [
    "Para a modelagem de tópicos do corpus, utilizamos o algoritmo de Indexação Semântica Latente [(Latent Semantic Indexing - LSI)](https://en.wikipedia.org/wiki/Latent_semantic_analysis) da biblioteca [gensim](https://radimrehurek.com/gensim/). "
   ]
  },
  {
   "cell_type": "markdown",
   "metadata": {},
   "source": [
    "O primeiro passo foi tokenizar e lematizar os textos, remover *stop words*, e criar um corpus com as classes do gensim: \n",
    "  - A tokenização foi feita com o método `tokenize()` do próprio gensim (https://radimrehurek.com/gensim/utils.html#gensim.utils.tokenize). \n",
    "  - A deleção de *stop words* foi feita com base numa lista obtida da união das palavras disponíveis nas biblotecas [spaCy](https://spacy.io/usage/spacy-101) e [nltk](http://www.nltk.org/), complementada com pronomes de tratamento (ex., Excelentíssimo, Vossa Excelência, etc.) e com as palavras da lista capitalizadas. \n",
    "  - Há poucas alternaticas para implementar a lematização na língua portuguesa, todas com performance ainda abaixo das opções para a língua inglesa (https://lars76.github.io/nlp/lemmatize-portuguese/). Optamos por realizar a lematização com a biblioteca spaCy (https://spacy.io/api/lemmatizer).\n",
    "\n",
    "Como feito antes, para otimizar o uso da memória, criamos uma classe que implementa um iterador. Quando objeto da classe é iterado, o conteúdo tokenizado de um arquivo com o conteúdo processado de uma carta é alimentado ao corpus e ao dicionário do gensim. O corpus utiliza o modelo [bag of words](https://radimrehurek.com/gensim/auto_examples/core/run_core_concepts.html)."
   ]
  },
  {
   "cell_type": "markdown",
   "metadata": {},
   "source": [
    "**Criação do conjunto de *stop words*:**"
   ]
  },
  {
   "cell_type": "code",
   "execution_count": 51,
   "metadata": {},
   "outputs": [
    {
     "data": {
      "text/markdown": [
       "**Número de *stop words* em português no spaCy: <font color=\"gray\">413</font>**"
      ],
      "text/plain": [
       "<IPython.core.display.Markdown object>"
      ]
     },
     "metadata": {},
     "output_type": "display_data"
    },
    {
     "data": {
      "text/markdown": [
       "**Primeiros *stop words* na lista:**"
      ],
      "text/plain": [
       "<IPython.core.display.Markdown object>"
      ]
     },
     "metadata": {},
     "output_type": "display_data"
    },
    {
     "name": "stdout",
     "output_type": "stream",
     "text": [
      "['acerca', 'ademais', 'adeus', 'agora', 'ainda', 'algo', 'algumas', 'alguns', 'ali', 'além', 'ambas', 'ambos', 'antes', 'ao', 'aos', 'apenas', 'apoia', 'apoio', 'apontar', 'após']\n"
     ]
    }
   ],
   "source": [
    "spacy_stopwords = spacy.lang.pt.stop_words.STOP_WORDS\n",
    "printmd('**Número de *stop words* em português no spaCy: <font color=\"gray\">' + str(len(spacy_stopwords)) + \n",
    "        '</font>**')\n",
    "printmd('**Primeiros *stop words* na lista:**')\n",
    "print(sorted(list(spacy_stopwords))[:20])"
   ]
  },
  {
   "cell_type": "code",
   "execution_count": 52,
   "metadata": {
    "scrolled": true
   },
   "outputs": [
    {
     "data": {
      "text/markdown": [
       "**Número de *stop words* em português no nlkt: <font color=\"gray\">204</font>**"
      ],
      "text/plain": [
       "<IPython.core.display.Markdown object>"
      ]
     },
     "metadata": {},
     "output_type": "display_data"
    },
    {
     "data": {
      "text/markdown": [
       "**Primeiros *stop words* na lista:**"
      ],
      "text/plain": [
       "<IPython.core.display.Markdown object>"
      ]
     },
     "metadata": {},
     "output_type": "display_data"
    },
    {
     "name": "stdout",
     "output_type": "stream",
     "text": [
      "['a', 'ao', 'aos', 'aquela', 'aquelas', 'aquele', 'aqueles', 'aquilo', 'as', 'até', 'com', 'como', 'da', 'das', 'de', 'dela', 'delas', 'dele', 'deles', 'depois']\n"
     ]
    }
   ],
   "source": [
    "nltk_stopwords = sorted(nltk.corpus.stopwords.words('portuguese'))\n",
    "printmd('**Número de *stop words* em português no nlkt: <font color=\"gray\">' + str(len(nltk_stopwords)) + \n",
    "        '</font>**')\n",
    "printmd('**Primeiros *stop words* na lista:**')\n",
    "print(nltk_stopwords[:20])"
   ]
  },
  {
   "cell_type": "code",
   "execution_count": 63,
   "metadata": {},
   "outputs": [
    {
     "data": {
      "text/markdown": [
       "**Número de *stop words* nas duas bibliotecas: <font color=\"gray\">1024</font>**"
      ],
      "text/plain": [
       "<IPython.core.display.Markdown object>"
      ]
     },
     "metadata": {},
     "output_type": "display_data"
    },
    {
     "data": {
      "text/markdown": [
       "**Primeiros *stop words* na lista:**"
      ],
      "text/plain": [
       "<IPython.core.display.Markdown object>"
      ]
     },
     "metadata": {},
     "output_type": "display_data"
    },
    {
     "name": "stdout",
     "output_type": "stream",
     "text": [
      "['A', 'Acerca', 'Ademais', 'Adeus', 'Agora', 'Ainda', 'Algo', 'Algumas', 'Alguns', 'Ali', 'Alteza', 'Além', 'Ambas', 'Ambos', 'Antes', 'Ao', 'Aos', 'Apenas', 'Apoia', 'Apoio', 'Apontar', 'Após', 'Aquela', 'Aquelas', 'Aquele', 'Aqueles', 'Aqui', 'Aquilo', 'As', 'Assim', 'Através', 'Atrás', 'Até', 'Aí', 'Baixo', 'Bastante', 'Bem', 'Boa', 'Bom', 'Breve', 'Cada', 'Caminho', 'Catorze', 'Cedo', 'Cento', 'Certamente', 'Certeza', 'Cima', 'Cinco', 'Coisa']\n"
     ]
    }
   ],
   "source": [
    "pron_tratamento = {'você', 'Sr', 'Sra', 'Srta', 'senhor', 'senhora', 'senhorita', 'vosmecê', 'V', 'Sa', \n",
    "                   'Vossa', 'Senhoria', 'Exa', 'Excelência', 'Ema', 'Eminência', 'S', 'Santidade', 'Rev', \n",
    "                   'Reverendíssima', 'Alteza', 'M', 'Majestade', 'M', 'Magnificência',\n",
    "                   'Excelentíssimo', 'Excelentíssima', 'Excelentíssimos', 'Excelentíssimas'}\n",
    "\n",
    "stopwords = set(spacy_stopwords).union(set(nltk_stopwords))\n",
    "\n",
    "stopwords = stopwords\\\n",
    "              .union(set([word.capitalize() for word in list(stopwords)]))\\\n",
    "              .union(pron_tratamento)\n",
    "\n",
    "printmd('**Número de *stop words* nas duas bibliotecas: <font color=\"gray\">' + str(len(stopwords)) + \n",
    "        '</font>**')\n",
    "printmd('**Primeiros *stop words* na lista:**')\n",
    "print(sorted(list(stopwords))[:50])\n",
    "\n",
    "with open('stopwords.txt', 'w+') as file:\n",
    "    file.writelines(\"%s\\n\" % word for word in sorted(list(stopwords)))"
   ]
  },
  {
   "cell_type": "markdown",
   "metadata": {},
   "source": [
    "**Definição da classe para a criação de corpus no gemsin:**"
   ]
  },
  {
   "cell_type": "code",
   "execution_count": 64,
   "metadata": {},
   "outputs": [],
   "source": [
    "class GensimCorpus:\n",
    "    def __init__(self, pasta, IDs, sufixo, dicionario, stop_words, lower=True, lema=False, nomes=False):\n",
    "        self.pasta = pasta\n",
    "        self.IDs = IDs\n",
    "        self.sufixo = sufixo\n",
    "        self.dicionario = dicionario\n",
    "        self.stop = stop_words\n",
    "        self.lower = lower\n",
    "        self.lema = lema\n",
    "        self.nomes = nomes\n",
    "\n",
    "    def __iter__(self):\n",
    "        for id in self.IDs:\n",
    "            fileid = self.pasta + id + self.sufixo\n",
    "            with open(fileid, mode=\"r\", encoding=\"utf-8\") as doc:\n",
    "                linhas = [linha.strip('\\n') for linha in doc.readlines()]\n",
    "                texto = ' '.join(linhas)\n",
    "            \n",
    "            #tokens = [token for token in gensim.utils.simple_preprocess(texto, deacc=False) \n",
    "            #          if token not in self.stop and len(token) > 1]\n",
    "            \n",
    "            tokens = [token \n",
    "                      for token in gensim.utils.tokenize(texto)\n",
    "                      if token not in self.stop and len(token) > 1]\n",
    "            \n",
    "            if self.lema:\n",
    "                tokens_spacy = nlp(' '.join(tokens))\n",
    "                tokens = [token.lemma_ for token in tokens_spacy]\n",
    "                    \n",
    "            if self.nomes:\n",
    "                tokens_spacy = nlp(' '.join(tokens))\n",
    "                tokens = [token.lemma_ for token in tokens_spacy if token.pos_ != 'PROPN']\n",
    "                \n",
    "            if self.lower:\n",
    "                tokens = [token.lower() for token in tokens]\n",
    "            \n",
    "            self.dicionario.add_documents([tokens])\n",
    "            \n",
    "            yield self.dicionario.doc2bow(tokens)"
   ]
  },
  {
   "cell_type": "code",
   "execution_count": 114,
   "metadata": {},
   "outputs": [],
   "source": [
    "dic_gensim = corpora.Dictionary()\n",
    "corpus_gensim = GensimCorpus('CE-DOHS-proc/', metadados.ID, '-proc.txt', dic_gensim, stopwords,\n",
    "                             lower=False, lema=False, nomes=True)"
   ]
  },
  {
   "cell_type": "markdown",
   "metadata": {},
   "source": [
    "Como sugerido no [tutorial do gensim](https://radimrehurek.com/gensim//auto_examples/core/run_topics_and_transformations.html), a transformação LSI recebeu como entrada o resultado da transformação do corpus para o espaço tf-idf. Seguindo [Bradford (2008)](https://doi.org/10.1145/1458082.1458105), optamos por selecionar os 350 maiores autovalores na transformação SVD (*num_topics*) implementada no LSI."
   ]
  },
  {
   "cell_type": "code",
   "execution_count": 115,
   "metadata": {},
   "outputs": [],
   "source": [
    "modelo_tfidf = models.TfidfModel(corpus_gensim, normalize=True) # inicialização da trasnformação tf-idf\n",
    "corpus_tfidf = modelo_tfidf[corpus_gensim]                      # transformação do corpus"
   ]
  },
  {
   "cell_type": "code",
   "execution_count": 116,
   "metadata": {},
   "outputs": [],
   "source": [
    "lsi_350 = models.LsiModel(corpus_tfidf, id2word=dic_gensim, num_topics=350)  # inicialização da transformação\n",
    "corpus_lsi = lsi_350[corpus_tfidf]                                           # transformação do corpus \n",
    "                                                                             # do modelo tf-idf"
   ]
  },
  {
   "cell_type": "markdown",
   "metadata": {},
   "source": [
    "O primeiro tópico, com os pesos dos primeiros 100 tokens, é mostrados abaixo: "
   ]
  },
  {
   "cell_type": "code",
   "execution_count": 117,
   "metadata": {},
   "outputs": [
    {
     "data": {
      "text/markdown": [
       "**Primeiro tópico identificado:**"
      ],
      "text/plain": [
       "<IPython.core.display.Markdown object>"
      ]
     },
     "metadata": {},
     "output_type": "display_data"
    },
    {
     "data": {
      "text/plain": [
       "[(0,\n",
       "  '0.156*\"compadrar\" + 0.142*\"mandar\" + 0.135*\"ir\" + 0.126*\"dia\" + 0.115*\"amigar\" + 0.113*\"dizer\" + 0.110*\"mim\" + 0.109*\"cartar\" + 0.108*\"lembrança\" + 0.108*\"escrever\" + 0.105*\"ficar\" + 0.102*\"passar\" + 0.101*\"receber\" + 0.098*\"casar\" + 0.098*\"dar\" + 0.097*\"vir\" + 0.097*\"pedir\" + 0.093*\"saudar\" + 0.092*\"chegar\" + 0.089*\"muito\" + 0.087*\"hoje\" + 0.086*\"fazer\" + 0.086*\"amigo\" + 0.086*\"querer\" + 0.085*\"notícia\" + 0.085*\"comadre\" + 0.084*\"ver\" + 0.083*\"d\" + 0.081*\"achar\" + 0.080*\"poder\" + 0.076*\"esperar\" + 0.076*\"abraçar\" + 0.076*\"menino\" + 0.075*\"encontrar\" + 0.074*\"estimar\" + 0.073*\"contar\" + 0.073*\"desejar\" + 0.071*\"família\" + 0.071*\"o\" + 0.070*\"melhor\" + 0.069*\"saudade\" + 0.068*\"sentir\" + 0.068*\"responder\" + 0.067*\"saber\" + 0.066*\"algum\" + 0.065*\"ano\" + 0.064*\"falar\" + 0.064*\"continuar\" + 0.063*\"linha\" + 0.063*\"deixar\" + 0.063*\"ordem\" + 0.063*\"ser\" + 0.063*\"graça\" + 0.062*\"sair\" + 0.062*\"visitar\" + 0.062*\"seguir\" + 0.061*\"vidar\" + 0.061*\"dever\" + 0.061*\"ter\" + 0.061*\"filho\" + 0.061*\"trabalhar\" + 0.061*\"entregar\" + 0.060*\"gostar\" + 0.060*\"caro\" + 0.060*\"enviar\" + 0.058*\"esquecer\" + 0.058*\"tomar\" + 0.058*\"Doutor\" + 0.058*\"aparecer\" + 0.057*\"horar\" + 0.057*\"aqui\" + 0.057*\"respostar\" + 0.057*\"prezar\" + 0.056*\"respeitar\" + 0.056*\"procurar\" + 0.056*\"dinheiro\" + 0.055*\"felicidade\" + 0.055*\"aceitar\" + 0.054*\"voltar\" + 0.054*\"pessoa\" + 0.054*\"velho\" + 0.054*\"irmão\" + 0.053*\"haver\" + 0.053*\"levar\" + 0.052*\"coração\" + 0.052*\"certar\" + 0.052*\"pagar\" + 0.052*\"comprar\" + 0.052*\"terminar\" + 0.052*\"nome\" + 0.050*\"prazer\" + 0.050*\"mesmo\" + 0.050*\"noite\" + 0.050*\"criar\" + 0.050*\"outro\" + 0.049*\"amor\" + 0.049*\"beijar\" + 0.049*\"agradecer\" + 0.049*\"conseguir\" + 0.048*\"lembrar\"')]"
      ]
     },
     "execution_count": 117,
     "metadata": {},
     "output_type": "execute_result"
    }
   ],
   "source": [
    "printmd('**Primeiro tópico identificado:**')\n",
    "lsi_350.print_topics(num_topics=1, num_words=100)"
   ]
  },
  {
   "cell_type": "markdown",
   "metadata": {},
   "source": [
    "Para facilitar a visualização dos resultados, mostramos abaixo os primeiros 30 tokens dos cinco tópicos iniciais, sem os seus respectivos pesos."
   ]
  },
  {
   "cell_type": "code",
   "execution_count": 118,
   "metadata": {},
   "outputs": [
    {
     "data": {
      "text/markdown": [
       "**Tópico 1:**"
      ],
      "text/plain": [
       "<IPython.core.display.Markdown object>"
      ]
     },
     "metadata": {},
     "output_type": "display_data"
    },
    {
     "name": "stdout",
     "output_type": "stream",
     "text": [
      "['compadrar', 'mandar', 'ir', 'dia', 'amigar', 'dizer', 'mim', 'cartar', 'lembrança', 'escrever', 'ficar', 'passar', 'receber', 'casar', 'dar', 'vir', 'pedir', 'saudar', 'chegar', 'muito', 'hoje', 'fazer', 'amigo', 'querer', 'notícia', 'comadre', 'ver', 'achar', 'poder', 'esperar']\n"
     ]
    },
    {
     "data": {
      "text/markdown": [
       "**Tópico 2:**"
      ],
      "text/plain": [
       "<IPython.core.display.Markdown object>"
      ]
     },
     "metadata": {},
     "output_type": "display_data"
    },
    {
     "name": "stdout",
     "output_type": "stream",
     "text": [
      "['compadrar', 'comadre', 'lembrança', 'mim', 'mandar', 'linha', 'menino', 'ir', 'benção', 'botar', 'graça', 'notícia', 'margem', 'audação', 'amigar', 'pegar', 'doutor', 'muito', 'qui', 'dinheiro', 'ser', 'saudade', 'pedir', 'prezar', 'quizer', 'virar', 'olhar', 'nomear', 'tio', 'papel']\n"
     ]
    },
    {
     "data": {
      "text/markdown": [
       "**Tópico 3:**"
      ],
      "text/plain": [
       "<IPython.core.display.Markdown object>"
      ]
     },
     "metadata": {},
     "output_type": "display_data"
    },
    {
     "name": "stdout",
     "output_type": "stream",
     "text": [
      "['compadrar', 'cautela', 'lembrança', 'letra', 'barco', 'comadre', 'ações', 'semente', 'banco', 'carnaval', 'doutor', 'mandar', 'esquecer', 'vertical', 'obsequiar', 'ver', 'horar', 'mim', 'manhã', 'scar', 'efeito', 'canoa', 'terrível', 'político', 'amortização', 'caixeiro', 'nomear', 'interessadamente', 'substituição', 'família']\n"
     ]
    },
    {
     "data": {
      "text/markdown": [
       "**Tópico 4:**"
      ],
      "text/plain": [
       "<IPython.core.display.Markdown object>"
      ]
     },
     "metadata": {},
     "output_type": "display_data"
    },
    {
     "name": "stdout",
     "output_type": "stream",
     "text": [
      "['compadrar', 'amigar', 'gostar', 'amor', 'rezado', 'estimar', 'saudade', 'ir', 'beijar', 'prezar', 'comadre', 'outor', 'dia', 'ti', 'querido', 'amar', 'vir', 'abraço', 'falar', 'terminar', 'muito', 'consideração', 'perguntar', 'passar', 'uerido', 'namorar', 'audação', 'ordem', 'pensar', 'apresentar']\n"
     ]
    },
    {
     "data": {
      "text/markdown": [
       "**Tópico 5:**"
      ],
      "text/plain": [
       "<IPython.core.display.Markdown object>"
      ]
     },
     "metadata": {},
     "output_type": "display_data"
    },
    {
     "name": "stdout",
     "output_type": "stream",
     "text": [
      "['compadrar', 'felicidade', 'amor', 'comprar', 'pagar', 'abraçar', 'mandar', 'dizer', 'dinheiro', 'desejar', 'querido', 'colega', 'amar', 'ti', 'lembrança', 'doutor', 'dia', 'amigar', 'sincero', 'feliz', 'prazer', 'vidar', 'paz', 'saudar', 'voto', 'sair', 'amanhã', 'coração', 'estimar', 'semana']\n"
     ]
    }
   ],
   "source": [
    "regex = re.compile('[^a-záàâãéèêíïóôõöúçñ]+')\n",
    "\n",
    "palavras = []\n",
    "\n",
    "for i in range(50):\n",
    "    palavras.append([word for word in regex.split(lsi_350.print_topic(i, 100)) if len(word) > 1])\n",
    "    if i < 5:\n",
    "        printmd('**Tópico ' + str(i+1) + ':**')\n",
    "        print(palavras[i][:30])"
   ]
  },
  {
   "cell_type": "code",
   "execution_count": 119,
   "metadata": {
    "scrolled": true
   },
   "outputs": [],
   "source": [
    "todos = palavras[0]\n",
    "\n",
    "for i in range(1,50):\n",
    "    todos.extend(palavras[i])"
   ]
  },
  {
   "cell_type": "code",
   "execution_count": 120,
   "metadata": {},
   "outputs": [
    {
     "data": {
      "image/png": "[encoded data removed]",
      "text/plain": [
       "<Figure size 720x720 with 1 Axes>"
      ]
     },
     "metadata": {
      "needs_background": "light"
     },
     "output_type": "display_data"
    }
   ],
   "source": [
    "texto = ' '.join(todos)\n",
    "\n",
    "# Gera a nuvem de palavras\n",
    "wordcloud = WordCloud().generate(texto)\n",
    "\n",
    "# take relative word frequencies into account, lower max_font_size\n",
    "wordcloud = WordCloud(background_color=\"white\",\n",
    "                      max_words=len(todos),\n",
    "                      max_font_size=40, \n",
    "                      relative_scaling=.6) \\\n",
    "            .generate(texto)\n",
    "\n",
    "plt.figure(figsize = (10, 10), facecolor = None) \n",
    "plt.imshow(wordcloud)\n",
    "plt.axis(\"off\")\n",
    "plt.show()"
   ]
  },
  {
   "cell_type": "markdown",
   "metadata": {},
   "source": [
    "for i in range(5):\n",
    "    printmd('<br/><font color=\"gray\"><u>**Tópicos ' + str(i+1) + ' e ' + str(i+2) + ':**</u></font>')\n",
    "    \n",
    "    printmd('**Tokens apenas no tópico ' + str(i+1) + ':**')\n",
    "    print(set(palavras[i])-set(palavras[i+1]))\n",
    "\n",
    "    printmd('**Tokens nos dois tópicos:**')\n",
    "    print(set(palavras[i+1])-set(palavras[i]))\n",
    "\n",
    "    printmd('**Tokens apenas no tópico ' + str(i+2) + ':**')\n",
    "    print(set(palavras[i]).intersection(palavras[i+1]))"
   ]
  },
  {
   "cell_type": "code",
   "execution_count": null,
   "metadata": {},
   "outputs": [],
   "source": []
  }
 ],
 "metadata": {
  "kernelspec": {
   "display_name": "Python 3",
   "language": "python",
   "name": "python3"
  },
  "language_info": {
   "codemirror_mode": {
    "name": "ipython",
    "version": 3
   },
   "file_extension": ".py",
   "mimetype": "text/x-python",
   "name": "python",
   "nbconvert_exporter": "python",
   "pygments_lexer": "ipython3",
   "version": "3.7.4"
  }
 },
 "nbformat": 4,
 "nbformat_minor": 2
}
